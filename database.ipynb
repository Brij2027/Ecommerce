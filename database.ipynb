{
 "metadata": {
  "language_info": {
   "codemirror_mode": {
    "name": "ipython",
    "version": 3
   },
   "file_extension": ".py",
   "mimetype": "text/x-python",
   "name": "python",
   "nbconvert_exporter": "python",
   "pygments_lexer": "ipython3",
   "version": "3.7.7-final"
  },
  "orig_nbformat": 2,
  "kernelspec": {
   "name": "python3",
   "display_name": "Python 3"
  }
 },
 "nbformat": 4,
 "nbformat_minor": 2,
 "cells": [
  {
   "source": [],
   "cell_type": "markdown",
   "metadata": {}
  },
  {
   "cell_type": "code",
   "execution_count": 1,
   "metadata": {},
   "outputs": [],
   "source": [
    "import pandas as pd \n",
    "data = pd.read_csv('database.csv')"
   ]
  },
  {
   "cell_type": "code",
   "execution_count": 11,
   "metadata": {},
   "outputs": [
    {
     "output_type": "execute_result",
     "data": {
      "text/plain": [
       "['Audio & Video Accessories',\n",
       " 'Stereos',\n",
       " 'Computers',\n",
       " 'Portable Bluetooth Speakers',\n",
       " 'Surround Speakers',\n",
       " 'Internal Solid State Drives',\n",
       " 'Bluetooth & Wireless Speakers',\n",
       " 'Electronics',\n",
       " 'Headphones',\n",
       " 'Audio Power Conditioners',\n",
       " 'Parts & Accessories',\n",
       " 'Accessories',\n",
       " 'In-Wall & In-Ceiling Speakers',\n",
       " 'Office',\n",
       " 'Marine Audio',\n",
       " 'Computer Accessories & Peripherals',\n",
       " 'Computers & Accessories',\n",
       " 'Straps & Hand Grips',\n",
       " 'Backpacks ffvzrevebzuqvcddwzzxeuwva',\n",
       " 'LCD TVs',\n",
       " 'Frys',\n",
       " 'Computers/Tablets & Networking',\n",
       " 'Consumer Electronics',\n",
       " 'Subwoofers',\n",
       " 'Car Electronics & GPS',\n",
       " 'LED & LCD TVs',\n",
       " 'Auto & Tires',\n",
       " 'Video Games & Consoles',\n",
       " 'Satellite Radio',\n",
       " 'Desktop Memory',\n",
       " 'Samsung Tax Time Savings',\n",
       " 'Sports & Outdoors',\n",
       " 'Audio',\n",
       " 'Floor Speakers',\n",
       " 'TV & Video',\n",
       " 'Home & Garden',\n",
       " 'Mobile',\n",
       " 'Outdoor Speakers',\n",
       " 'Towers',\n",
       " 'See more Samsung Ubd-m9500 4k Ultra HD Blu-ray Player',\n",
       " 'TV',\n",
       " 'Photography',\n",
       " 'Digital Cameras',\n",
       " 'TVs & Electronics',\n",
       " 'Camera & Photo Accessories',\n",
       " 'Controllers',\n",
       " 'All TVs',\n",
       " 'Used:Film Camera Lens Accessories',\n",
       " 'Home Theater Systems',\n",
       " 'Speaker Separates',\n",
       " 'Cameras & Photo',\n",
       " 'Samsung Smart TVs',\n",
       " '4K Ultra HD TVs']"
      ]
     },
     "metadata": {},
     "execution_count": 11
    }
   ],
   "source": [
    "categories = []\n",
    "for i in data['categories']:\n",
    "    temp = []\n",
    "    temp.extend(i.split(','))\n",
    "    if (temp[0] not in categories):\n",
    "        categories.append(temp[0])\n",
    "\n",
    "categories"
   ]
  },
  {
   "cell_type": "code",
   "execution_count": 10,
   "metadata": {},
   "outputs": [],
   "source": [
    "import re"
   ]
  },
  {
   "cell_type": "code",
   "execution_count": 23,
   "metadata": {},
   "outputs": [],
   "source": [
    "image = []\n",
    "for i in data['image']:\n",
    "    temp = []\n",
    "    temp.extend(i.split(','))\n",
    "    image.append(temp)\n",
    "\n",
    "new_image = []\n",
    "p = re.compile('https://images-na.ssl-images-amazon.com')\n",
    "for i in image:\n",
    "    flag = 0\n",
    "    for j in i:\n",
    "        if p.search(j):\n",
    "            new_image.append([j])\n",
    "            flag =1\n",
    "            break\n",
    "    if flag == 0:\n",
    "        new_image.append(i[0])\n",
    "    \n",
    "\n",
    "new_image[0]\n",
    "len(new_image)\n",
    "data['image'] = new_image"
   ]
  },
  {
   "cell_type": "code",
   "execution_count": 25,
   "metadata": {},
   "outputs": [
    {
     "output_type": "execute_result",
     "data": {
      "text/plain": [
       "0    [https://images-na.ssl-images-amazon.com/image...\n",
       "1    [https://images-na.ssl-images-amazon.com/image...\n",
       "2    [https://images-na.ssl-images-amazon.com/image...\n",
       "3    [https://images-na.ssl-images-amazon.com/image...\n",
       "4    [https://images-na.ssl-images-amazon.com/image...\n",
       "Name: image, dtype: object"
      ]
     },
     "metadata": {},
     "execution_count": 25
    }
   ],
   "source": [
    "data['image'].head()"
   ]
  },
  {
   "cell_type": "code",
   "execution_count": 11,
   "metadata": {},
   "outputs": [],
   "source": [
    "data['availability'] = data['availability'].replace('In Stock',True)\n",
    "data['availability'] = data['availability'].replace('Yes',True)\n",
    "data['availability'] = data['availability'].replace('yes',True)\n"
   ]
  },
  {
   "cell_type": "code",
   "execution_count": 12,
   "metadata": {},
   "outputs": [],
   "source": [
    "data['offer'] = [False]*data.shape[0]"
   ]
  },
  {
   "cell_type": "code",
   "execution_count": 13,
   "metadata": {},
   "outputs": [],
   "source": [
    "data = data[['name','price','image','offer','availability','categories']]"
   ]
  },
  {
   "cell_type": "code",
   "execution_count": 10,
   "metadata": {},
   "outputs": [],
   "source": [
    "data = data.loc[0:1000]"
   ]
  },
  {
   "cell_type": "code",
   "execution_count": 15,
   "metadata": {},
   "outputs": [
    {
     "output_type": "execute_result",
     "data": {
      "text/plain": [
       "(1001, 6)"
      ]
     },
     "metadata": {},
     "execution_count": 15
    }
   ],
   "source": [
    "data.shape"
   ]
  },
  {
   "cell_type": "code",
   "execution_count": 16,
   "metadata": {},
   "outputs": [
    {
     "output_type": "execute_result",
     "data": {
      "text/plain": [
       "Index(['name', 'price', 'image', 'offer', 'availability', 'categories'], dtype='object')"
      ]
     },
     "metadata": {},
     "execution_count": 16
    }
   ],
   "source": [
    "data.keys()"
   ]
  },
  {
   "cell_type": "code",
   "execution_count": null,
   "metadata": {},
   "outputs": [],
   "source": []
  }
 ]
}